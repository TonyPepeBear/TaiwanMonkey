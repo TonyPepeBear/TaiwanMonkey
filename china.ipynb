{
 "cells": [
  {
   "cell_type": "code",
   "execution_count": 16,
   "metadata": {},
   "outputs": [],
   "source": [
    "from bs4 import BeautifulSoup\n",
    "import requests\n",
    "from newspaper import Article\n",
    "from openpyxl import Workbook\n",
    "import time"
   ]
  },
  {
   "cell_type": "code",
   "execution_count": 19,
   "metadata": {},
   "outputs": [],
   "source": [
    "def china_list():\n",
    "    ans = []\n",
    "    query_url = \"https://www.chinatimes.com/search/%E5%8F%B0%E7%81%A3%E7%8D%BC%E7%8C%B4?page=\"\n",
    "    page = 1\n",
    "    while True:\n",
    "        soup = BeautifulSoup(requests.get(\n",
    "            query_url + str(page)).text, \"html.parser\")\n",
    "        arts = soup.select_one(\".vertical-list\")\n",
    "        if arts is None:\n",
    "            break\n",
    "        arts = arts.select(\"li\")\n",
    "        if len(arts) == 0:\n",
    "            break\n",
    "        for art in arts:\n",
    "            ans.append(art.select_one(\"a\")[\"href\"])\n",
    "        page = page + 1\n",
    "        if page == 19: #todo\n",
    "            break\n",
    "    return ans\n"
   ]
  },
  {
   "cell_type": "code",
   "execution_count": 22,
   "metadata": {},
   "outputs": [],
   "source": [
    "wb = Workbook()\n",
    "ws = wb.active\n",
    "ws.title = \"china\"\n",
    "ws_filte = wb.create_sheet(\"china_filte\")\n",
    "\n",
    "\n",
    "def temp_filter(s): return \"遊憩干擾\" in s or \"衝突\" in s or \"遊憩活動\" in s\n",
    "\n",
    "\n",
    "for url in china_list():\n",
    "    art = Article(url)\n",
    "    art.download()\n",
    "    art.parse()\n",
    "    if (\"遊客\" not in art.text):\n",
    "        continue\n",
    "    output_arr = [\n",
    "        art.publish_date.strftime(\n",
    "            \"%Y-%m-%d\") if art.publish_date is not None else \"None\",\n",
    "        art.title,\n",
    "        art.text.replace(\"\\n\", \" \"),\n",
    "        url\n",
    "    ]\n",
    "    ws.append(output_arr)\n",
    "    if temp_filter(art.text):\n",
    "        ws_filte.append(output_arr)\n",
    "    time.sleep(1)\n",
    "\n",
    "\n",
    "wb.save(filename=\"china.xlsx\")\n"
   ]
  },
  {
   "cell_type": "code",
   "execution_count": 13,
   "metadata": {},
   "outputs": [
    {
     "data": {
      "text/plain": [
       "'2022-02-10'"
      ]
     },
     "execution_count": 13,
     "metadata": {},
     "output_type": "execute_result"
    }
   ],
   "source": [
    "art = Article(\"https://www.chinatimes.com/realtimenews/20220210002667-260405?chdtv\")\n",
    "art.download()\n",
    "art.parse()\n",
    "art.publish_date.strftime(\"%Y-%m-%d\")\n"
   ]
  }
 ],
 "metadata": {
  "interpreter": {
   "hash": "949777d72b0d2535278d3dc13498b2535136f6dfe0678499012e853ee9abcab1"
  },
  "kernelspec": {
   "display_name": "Python 3.10.4 64-bit",
   "language": "python",
   "name": "python3"
  },
  "language_info": {
   "codemirror_mode": {
    "name": "ipython",
    "version": 3
   },
   "file_extension": ".py",
   "mimetype": "text/x-python",
   "name": "python",
   "nbconvert_exporter": "python",
   "pygments_lexer": "ipython3",
   "version": "3.10.4"
  },
  "orig_nbformat": 4
 },
 "nbformat": 4,
 "nbformat_minor": 2
}
