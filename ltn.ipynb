{
 "cells": [
  {
   "cell_type": "code",
   "execution_count": 3,
   "metadata": {},
   "outputs": [],
   "source": [
    "from bs4 import BeautifulSoup\n",
    "import requests\n",
    "from newspaper import Article\n",
    "import csv"
   ]
  },
  {
   "cell_type": "code",
   "execution_count": null,
   "metadata": {},
   "outputs": [],
   "source": [
    "def ltn_list():\n",
    "    ans = []\n",
    "    query_url = \"https://search.ltn.com.tw/list?keyword=%E5%8F%B0%E7%81%A3%20%E7%8D%BC%E7%8C%B4%20%E9%81%8A%E5%AE%A2&start_time=20120101&end_time=20220521&sort=date&type=all&page=\"\n",
    "    page = 1\n",
    "    while True:\n",
    "        soup = BeautifulSoup(requests.get(\n",
    "            query_url + str(page)).text, \"html.parser\")\n",
    "        arts = soup.select_one(\".list\")\n",
    "        if arts is None:\n",
    "            break\n",
    "        arts = arts.select(\"li\")\n",
    "        if len(arts) == 0:\n",
    "            break\n",
    "        for art in arts:\n",
    "            ans.append(art.select_one(\"a\")[\"href\"])\n",
    "        page = page + 1\n",
    "    return ans\n"
   ]
  },
  {
   "cell_type": "code",
   "execution_count": null,
   "metadata": {},
   "outputs": [],
   "source": [
    "with open(\"ltn.csv\", \"w\", encoding=\"utf-8\") as f:\n",
    "    out_csv = csv.writer(f , delimiter=',') \n",
    "    for url in ltn_list():\n",
    "        art = Article(url)\n",
    "        art.download()\n",
    "        art.parse()\n",
    "        out_csv.writerow(\n",
    "            [\n",
    "                art.publish_date.strftime(\"%Y-%m-%d\") if art.publish_date is not None else \"None\",\n",
    "                art.title,\n",
    "                art.text.replace(\"\\n\", \" \"),\n",
    "                url\n",
    "            ]\n",
    "        )\n"
   ]
  },
  {
   "cell_type": "code",
   "execution_count": null,
   "metadata": {},
   "outputs": [],
   "source": [
    "art = Article(\"https://news.ltn.com.tw/news/politics/breakingnews/3935555\")\n",
    "art.download()\n",
    "art.parse()\n",
    "art.publish_date.strftime(\"%Y-%m-%d\")\n"
   ]
  }
 ],
 "metadata": {
  "interpreter": {
   "hash": "949777d72b0d2535278d3dc13498b2535136f6dfe0678499012e853ee9abcab1"
  },
  "kernelspec": {
   "display_name": "Python 3.10.4 64-bit",
   "language": "python",
   "name": "python3"
  },
  "language_info": {
   "codemirror_mode": {
    "name": "ipython",
    "version": 3
   },
   "file_extension": ".py",
   "mimetype": "text/x-python",
   "name": "python",
   "nbconvert_exporter": "python",
   "pygments_lexer": "ipython3",
   "version": "3.10.4"
  },
  "orig_nbformat": 4
 },
 "nbformat": 4,
 "nbformat_minor": 2
}
