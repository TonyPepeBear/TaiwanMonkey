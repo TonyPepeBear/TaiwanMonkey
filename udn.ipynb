{
 "cells": [
  {
   "cell_type": "code",
   "execution_count": 19,
   "metadata": {},
   "outputs": [],
   "source": [
    "from bs4 import BeautifulSoup\n",
    "import requests\n",
    "from newspaper import Article\n",
    "import csv\n",
    "from openpyxl import Workbook\n",
    "import time"
   ]
  },
  {
   "cell_type": "code",
   "execution_count": 17,
   "metadata": {},
   "outputs": [],
   "source": [
    "def art_list():\n",
    "    ans = []\n",
    "    page = 1\n",
    "    while True:\n",
    "        queryUrl = \"https://udn.com/api/more?page=\" + str(page) + \\\n",
    "            \"&id=search:台灣%20獼猴%20遊客&channelId=2&type=searchword\"\n",
    "        res = requests.get(queryUrl).json()\n",
    "        if len(res[\"lists\"]) == 0 :\n",
    "            break\n",
    "        for art in res[\"lists\"]:\n",
    "            if len(list(filter((lambda s: s[\"title\"].replace(\"影／\", \"\") == art[\"title\"].replace(\"影／\", \"\")), ans))) == 0:\n",
    "                ans.append(art)\n",
    "        page += 1\n",
    "    return ans\n"
   ]
  },
  {
   "cell_type": "code",
   "execution_count": 20,
   "metadata": {},
   "outputs": [],
   "source": [
    "wb = Workbook()\n",
    "ws = wb.active\n",
    "ws.title = \"udn\"\n",
    "ws_filte = wb.create_sheet(\"udn_filte\")\n",
    "\n",
    "temp_filter = lambda s : \"遊憩干擾\" in s or \"衝突\" in s or \"遊憩活動\" in s\n",
    "\n",
    "for art in art_list() :\n",
    "    artt = Article(art[\"titleLink\"])\n",
    "    artt.download()\n",
    "    artt.parse()\n",
    "    output = [\n",
    "        art[\"time\"][\"dateTime\"],\n",
    "        art[\"title\"],\n",
    "        artt.text.replace(\"\\n\", \" \"),\n",
    "        art[\"titleLink\"],\n",
    "    ]\n",
    "    ws.append(output)\n",
    "    if temp_filter(artt.text):\n",
    "        ws_filte.append(output)\n",
    "    time.sleep(2)\n",
    "\n",
    "wb.save(filename=\"udn.xlsx\")\n"
   ]
  },
  {
   "cell_type": "code",
   "execution_count": null,
   "metadata": {},
   "outputs": [],
   "source": [
    "art = Article(\"https://autos.udn.com/autos/story/7825/796481\")\n",
    "art.download()\n",
    "art.parse()\n",
    "# art.publish_date.strftime(\"%Y-%m-%d\")\n",
    "art.title\n",
    "\n",
    "queryUrl = \"https://udn.com/api/more?page=7&id=search:%E5%8F%B0%E7%81%A3%20%E7%8D%BC%E7%8C%B4%20%E9%81%8A%E5%AE%A2&channelId=2&type=searchword\"\n",
    "requests.get(queryUrl).json()\n"
   ]
  }
 ],
 "metadata": {
  "interpreter": {
   "hash": "949777d72b0d2535278d3dc13498b2535136f6dfe0678499012e853ee9abcab1"
  },
  "kernelspec": {
   "display_name": "Python 3.10.4 64-bit",
   "language": "python",
   "name": "python3"
  },
  "language_info": {
   "codemirror_mode": {
    "name": "ipython",
    "version": 3
   },
   "file_extension": ".py",
   "mimetype": "text/x-python",
   "name": "python",
   "nbconvert_exporter": "python",
   "pygments_lexer": "ipython3",
   "version": "3.10.4"
  },
  "orig_nbformat": 4
 },
 "nbformat": 4,
 "nbformat_minor": 2
}
